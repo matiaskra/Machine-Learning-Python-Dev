{
 "cells": [
  {
   "cell_type": "markdown",
   "metadata": {},
   "source": [
    "# Modelos de Regresion Lineal\n",
    "## Modelo con datos simulados\n",
    "y = a + b * x\n",
    "* x : 100 valores distribuidos segun una Normal (1.5, 2.5) \n",
    "* Ye = 7 + 1.8 * x (Y estimada)\n",
    "* e estara distribuido segun una Normal (0, 0.8)"
   ]
  },
  {
   "cell_type": "code",
   "execution_count": 1,
   "metadata": {},
   "outputs": [],
   "source": [
    "import pandas as pd\n",
    "import numpy as np\n"
   ]
  },
  {
   "cell_type": "code",
   "execution_count": 2,
   "metadata": {},
   "outputs": [],
   "source": [
    "x = 1.5 + 2.5 * np.random.randn(100)"
   ]
  },
  {
   "cell_type": "code",
   "execution_count": 3,
   "metadata": {},
   "outputs": [],
   "source": [
    "res = 0 + 0.8 * np.random.randn(100)"
   ]
  },
  {
   "cell_type": "code",
   "execution_count": 4,
   "metadata": {},
   "outputs": [],
   "source": [
    "y_pred = 7 + 1.8 * x"
   ]
  },
  {
   "cell_type": "code",
   "execution_count": 5,
   "metadata": {},
   "outputs": [],
   "source": [
    "y_act = 7 + 1.8 * x + res"
   ]
  },
  {
   "cell_type": "code",
   "execution_count": 6,
   "metadata": {},
   "outputs": [],
   "source": [
    "x_list = x.tolist()\n",
    "y_pred_list = y_pred.tolist()\n",
    "y_act_list = y_act.tolist()"
   ]
  },
  {
   "cell_type": "code",
   "execution_count": 7,
   "metadata": {},
   "outputs": [],
   "source": [
    "data = pd.DataFrame(\n",
    "{\n",
    "    \"x\": x_list,\n",
    "    \"y_actual\": y_act_list,\n",
    "    \"y_prediccion\": y_pred_list\n",
    "})"
   ]
  },
  {
   "cell_type": "code",
   "execution_count": 8,
   "metadata": {},
   "outputs": [
    {
     "data": {
      "text/html": [
       "<div>\n",
       "<style scoped>\n",
       "    .dataframe tbody tr th:only-of-type {\n",
       "        vertical-align: middle;\n",
       "    }\n",
       "\n",
       "    .dataframe tbody tr th {\n",
       "        vertical-align: top;\n",
       "    }\n",
       "\n",
       "    .dataframe thead th {\n",
       "        text-align: right;\n",
       "    }\n",
       "</style>\n",
       "<table border=\"1\" class=\"dataframe\">\n",
       "  <thead>\n",
       "    <tr style=\"text-align: right;\">\n",
       "      <th></th>\n",
       "      <th>x</th>\n",
       "      <th>y_actual</th>\n",
       "      <th>y_prediccion</th>\n",
       "    </tr>\n",
       "  </thead>\n",
       "  <tbody>\n",
       "    <tr>\n",
       "      <th>0</th>\n",
       "      <td>1.612931</td>\n",
       "      <td>11.438866</td>\n",
       "      <td>9.903276</td>\n",
       "    </tr>\n",
       "    <tr>\n",
       "      <th>1</th>\n",
       "      <td>4.465017</td>\n",
       "      <td>15.662112</td>\n",
       "      <td>15.037030</td>\n",
       "    </tr>\n",
       "    <tr>\n",
       "      <th>2</th>\n",
       "      <td>0.699683</td>\n",
       "      <td>8.095857</td>\n",
       "      <td>8.259430</td>\n",
       "    </tr>\n",
       "    <tr>\n",
       "      <th>3</th>\n",
       "      <td>-3.292524</td>\n",
       "      <td>1.840284</td>\n",
       "      <td>1.073456</td>\n",
       "    </tr>\n",
       "    <tr>\n",
       "      <th>4</th>\n",
       "      <td>-1.816636</td>\n",
       "      <td>3.362658</td>\n",
       "      <td>3.730056</td>\n",
       "    </tr>\n",
       "  </tbody>\n",
       "</table>\n",
       "</div>"
      ],
      "text/plain": [
       "          x   y_actual  y_prediccion\n",
       "0  1.612931  11.438866      9.903276\n",
       "1  4.465017  15.662112     15.037030\n",
       "2  0.699683   8.095857      8.259430\n",
       "3 -3.292524   1.840284      1.073456\n",
       "4 -1.816636   3.362658      3.730056"
      ]
     },
     "execution_count": 8,
     "metadata": {},
     "output_type": "execute_result"
    }
   ],
   "source": [
    "data.head()"
   ]
  },
  {
   "cell_type": "code",
   "execution_count": 9,
   "metadata": {},
   "outputs": [],
   "source": [
    "import matplotlib.pyplot as plt"
   ]
  },
  {
   "cell_type": "code",
   "execution_count": 10,
   "metadata": {},
   "outputs": [],
   "source": [
    "y_mean = [np.mean(y_act) for i in range (1, len(x_list) + 1)]"
   ]
  },
  {
   "cell_type": "code",
   "execution_count": 11,
   "metadata": {},
   "outputs": [
    {
     "data": {
      "text/plain": [
       "Text(0.5,1,'Valor actual vs prediccion')"
      ]
     },
     "execution_count": 11,
     "metadata": {},
     "output_type": "execute_result"
    },
    {
     "data": {
      "image/png": "[encoded data removed]",
      "text/plain": [
       "<Figure size 432x288 with 1 Axes>"
      ]
     },
     "metadata": {},
     "output_type": "display_data"
    }
   ],
   "source": [
    "%matplotlib inline\n",
    "plt.plot(x, y_pred, \"b\")\n",
    "plt.plot(x, y_act, \"ro\")\n",
    "plt.plot(x, y_mean, \"g\")\n",
    "plt.title(\"Valor actual vs prediccion\")"
   ]
  },
  {
   "cell_type": "code",
   "execution_count": 12,
   "metadata": {},
   "outputs": [],
   "source": [
    "data[\"SSR\"]= (data[\"y_prediccion\"] - np.mean(y_act))**2\n",
    "data[\"SSD\"] =(data[\"y_prediccion\"] - data[\"y_actual\"])**2\n",
    "data[\"SST\"] = (data[\"y_actual\"] - np.mean(y_act))**2 "
   ]
  },
  {
   "cell_type": "code",
   "execution_count": 13,
   "metadata": {},
   "outputs": [
    {
     "data": {
      "text/html": [
       "<div>\n",
       "<style scoped>\n",
       "    .dataframe tbody tr th:only-of-type {\n",
       "        vertical-align: middle;\n",
       "    }\n",
       "\n",
       "    .dataframe tbody tr th {\n",
       "        vertical-align: top;\n",
       "    }\n",
       "\n",
       "    .dataframe thead th {\n",
       "        text-align: right;\n",
       "    }\n",
       "</style>\n",
       "<table border=\"1\" class=\"dataframe\">\n",
       "  <thead>\n",
       "    <tr style=\"text-align: right;\">\n",
       "      <th></th>\n",
       "      <th>x</th>\n",
       "      <th>y_actual</th>\n",
       "      <th>y_prediccion</th>\n",
       "      <th>SSR</th>\n",
       "      <th>SSD</th>\n",
       "      <th>SST</th>\n",
       "    </tr>\n",
       "  </thead>\n",
       "  <tbody>\n",
       "    <tr>\n",
       "      <th>0</th>\n",
       "      <td>1.612931</td>\n",
       "      <td>11.438866</td>\n",
       "      <td>9.903276</td>\n",
       "      <td>0.562748</td>\n",
       "      <td>2.358037</td>\n",
       "      <td>5.224679</td>\n",
       "    </tr>\n",
       "    <tr>\n",
       "      <th>1</th>\n",
       "      <td>4.465017</td>\n",
       "      <td>15.662112</td>\n",
       "      <td>15.037030</td>\n",
       "      <td>34.620511</td>\n",
       "      <td>0.390727</td>\n",
       "      <td>42.367093</td>\n",
       "    </tr>\n",
       "    <tr>\n",
       "      <th>2</th>\n",
       "      <td>0.699683</td>\n",
       "      <td>8.095857</td>\n",
       "      <td>8.259430</td>\n",
       "      <td>0.798666</td>\n",
       "      <td>0.026756</td>\n",
       "      <td>1.117786</td>\n",
       "    </tr>\n",
       "    <tr>\n",
       "      <th>3</th>\n",
       "      <td>-3.292524</td>\n",
       "      <td>1.840284</td>\n",
       "      <td>1.073456</td>\n",
       "      <td>65.280813</td>\n",
       "      <td>0.588025</td>\n",
       "      <td>53.477429</td>\n",
       "    </tr>\n",
       "    <tr>\n",
       "      <th>4</th>\n",
       "      <td>-1.816636</td>\n",
       "      <td>3.362658</td>\n",
       "      <td>3.730056</td>\n",
       "      <td>29.409522</td>\n",
       "      <td>0.134981</td>\n",
       "      <td>33.529344</td>\n",
       "    </tr>\n",
       "  </tbody>\n",
       "</table>\n",
       "</div>"
      ],
      "text/plain": [
       "          x   y_actual  y_prediccion        SSR       SSD        SST\n",
       "0  1.612931  11.438866      9.903276   0.562748  2.358037   5.224679\n",
       "1  4.465017  15.662112     15.037030  34.620511  0.390727  42.367093\n",
       "2  0.699683   8.095857      8.259430   0.798666  0.026756   1.117786\n",
       "3 -3.292524   1.840284      1.073456  65.280813  0.588025  53.477429\n",
       "4 -1.816636   3.362658      3.730056  29.409522  0.134981  33.529344"
      ]
     },
     "execution_count": 13,
     "metadata": {},
     "output_type": "execute_result"
    }
   ],
   "source": [
    "data.head()"
   ]
  },
  {
   "cell_type": "code",
   "execution_count": 14,
   "metadata": {},
   "outputs": [],
   "source": [
    "SSR = sum(data[\"SSR\"])\n",
    "SSD = sum(data[\"SSD\"])\n",
    "SST = sum(data[\"SST\"])"
   ]
  },
  {
   "cell_type": "code",
   "execution_count": 15,
   "metadata": {},
   "outputs": [
    {
     "data": {
      "text/plain": [
       "1930.6031419846524"
      ]
     },
     "execution_count": 15,
     "metadata": {},
     "output_type": "execute_result"
    }
   ],
   "source": [
    "SSR"
   ]
  },
  {
   "cell_type": "code",
   "execution_count": 16,
   "metadata": {},
   "outputs": [
    {
     "data": {
      "text/plain": [
       "55.52879073928439"
      ]
     },
     "execution_count": 16,
     "metadata": {},
     "output_type": "execute_result"
    }
   ],
   "source": [
    "SSD"
   ]
  },
  {
   "cell_type": "code",
   "execution_count": 17,
   "metadata": {},
   "outputs": [
    {
     "data": {
      "text/plain": [
       "1948.341381494462"
      ]
     },
     "execution_count": 17,
     "metadata": {},
     "output_type": "execute_result"
    }
   ],
   "source": [
    "SST"
   ]
  },
  {
   "cell_type": "code",
   "execution_count": 18,
   "metadata": {},
   "outputs": [],
   "source": [
    "R2 = SSR/SST"
   ]
  },
  {
   "cell_type": "code",
   "execution_count": 19,
   "metadata": {},
   "outputs": [
    {
     "data": {
      "text/plain": [
       "0.9908957230605021"
      ]
     },
     "execution_count": 19,
     "metadata": {},
     "output_type": "execute_result"
    }
   ],
   "source": [
    "R2"
   ]
  },
  {
   "cell_type": "code",
   "execution_count": 20,
   "metadata": {},
   "outputs": [
    {
     "data": {
      "text/plain": [
       "(array([ 4.,  5.,  9., 11., 18., 15., 14., 14.,  3.,  7.]),\n",
       " array([-1.68355798, -1.35528937, -1.02702077, -0.69875217, -0.37048356,\n",
       "        -0.04221496,  0.28605364,  0.61432225,  0.94259085,  1.27085945,\n",
       "         1.59912806]),\n",
       " <a list of 10 Patch objects>)"
      ]
     },
     "execution_count": 20,
     "metadata": {},
     "output_type": "execute_result"
    },
    {
     "data": {
      "image/png": "[encoded data removed]",
      "text/plain": [
       "<Figure size 432x288 with 1 Axes>"
      ]
     },
     "metadata": {},
     "output_type": "display_data"
    }
   ],
   "source": [
    "\n",
    "plt.hist((data[\"y_prediccion\"] - data[\"y_actual\"]))"
   ]
  },
  {
   "cell_type": "markdown",
   "metadata": {},
   "source": [
    "### Obteniendo la recta de regresion\n",
    "* y = a + b* x\n",
    "* b = sum((xi - x_m)*(y_i-y_m))/sum((xi-x_m)^2)\n",
    "* a = y_n - b * x_m"
   ]
  },
  {
   "cell_type": "code",
   "execution_count": 21,
   "metadata": {},
   "outputs": [
    {
     "data": {
      "text/plain": [
       "(1.2130305777789143, 9.153110714928836)"
      ]
     },
     "execution_count": 21,
     "metadata": {},
     "output_type": "execute_result"
    }
   ],
   "source": [
    "x_mean = np.mean(data[\"x\"])\n",
    "y_mean = np.mean(data[\"y_actual\"])\n",
    "x_mean, y_mean"
   ]
  },
  {
   "cell_type": "code",
   "execution_count": 24,
   "metadata": {},
   "outputs": [],
   "source": [
    "data[\"beta_numerador\"] = (data[\"x\"]- x_mean) * (data[\"y_actual\"]-y_mean)\n",
    "data[\"beta_denominador\"] = (data[\"x\"]-x_mean)**2 #es la varianza de X\n",
    "\n"
   ]
  },
  {
   "cell_type": "code",
   "execution_count": 25,
   "metadata": {},
   "outputs": [],
   "source": [
    "beta= sum(data[\"beta_numerador\"])/sum(data[\"beta_denominador\"])"
   ]
  },
  {
   "cell_type": "code",
   "execution_count": 26,
   "metadata": {},
   "outputs": [
    {
     "data": {
      "text/plain": [
       "1.7824679813117843"
      ]
     },
     "execution_count": 26,
     "metadata": {},
     "output_type": "execute_result"
    }
   ],
   "source": [
    "beta"
   ]
  },
  {
   "cell_type": "code",
   "execution_count": 27,
   "metadata": {},
   "outputs": [],
   "source": [
    "alpha = y_mean - beta * x_mean"
   ]
  },
  {
   "cell_type": "code",
   "execution_count": 28,
   "metadata": {},
   "outputs": [
    {
     "data": {
      "text/plain": [
       "6.990922549685788"
      ]
     },
     "execution_count": 28,
     "metadata": {},
     "output_type": "execute_result"
    }
   ],
   "source": [
    "alpha"
   ]
  },
  {
   "cell_type": "code",
   "execution_count": 32,
   "metadata": {},
   "outputs": [],
   "source": [
    "y = alpha + beta * data[\"x\"]"
   ]
  },
  {
   "cell_type": "code",
   "execution_count": 33,
   "metadata": {
    "scrolled": true
   },
   "outputs": [
    {
     "data": {
      "text/plain": [
       "0      9.865921\n",
       "1     14.949672\n",
       "2      8.238085\n",
       "3      1.122104\n",
       "4      3.752828\n",
       "5     10.806360\n",
       "6      9.424898\n",
       "7      1.679040\n",
       "8     -1.797578\n",
       "9     10.247883\n",
       "10    17.582773\n",
       "11     2.785845\n",
       "12     4.182585\n",
       "13     6.786121\n",
       "14     4.830634\n",
       "15    10.289777\n",
       "16    13.865571\n",
       "17    13.728313\n",
       "18     7.285686\n",
       "19     3.182800\n",
       "20     9.330594\n",
       "21    11.302174\n",
       "22     7.088415\n",
       "23    10.314880\n",
       "24     8.133795\n",
       "25     8.936958\n",
       "26     6.871707\n",
       "27    11.921853\n",
       "28     6.227051\n",
       "29    12.300859\n",
       "        ...    \n",
       "70    13.192429\n",
       "71     5.326898\n",
       "72    13.120397\n",
       "73    11.804061\n",
       "74    16.022585\n",
       "75     7.780489\n",
       "76     7.988527\n",
       "77    13.611550\n",
       "78     9.759796\n",
       "79     8.519462\n",
       "80     7.429766\n",
       "81    14.275734\n",
       "82    13.309070\n",
       "83     6.099446\n",
       "84    11.067387\n",
       "85     9.461897\n",
       "86     7.626889\n",
       "87     7.140505\n",
       "88     4.756129\n",
       "89    14.378991\n",
       "90    15.692209\n",
       "91     9.685426\n",
       "92    10.304181\n",
       "93    14.312310\n",
       "94    14.699506\n",
       "95     8.966987\n",
       "96    14.976138\n",
       "97     7.339050\n",
       "98    13.901414\n",
       "99     8.560574\n",
       "Name: x, Length: 100, dtype: float64"
      ]
     },
     "execution_count": 33,
     "metadata": {},
     "output_type": "execute_result"
    }
   ],
   "source": [
    "#EL modelo lineal obtenido por regresion es y\n",
    "y"
   ]
  },
  {
   "cell_type": "code",
   "execution_count": 35,
   "metadata": {},
   "outputs": [],
   "source": [
    "data[\"y_model\"] = alpha + beta * data[\"x\"]"
   ]
  },
  {
   "cell_type": "code",
   "execution_count": 36,
   "metadata": {},
   "outputs": [
    {
     "data": {
      "text/html": [
       "<div>\n",
       "<style scoped>\n",
       "    .dataframe tbody tr th:only-of-type {\n",
       "        vertical-align: middle;\n",
       "    }\n",
       "\n",
       "    .dataframe tbody tr th {\n",
       "        vertical-align: top;\n",
       "    }\n",
       "\n",
       "    .dataframe thead th {\n",
       "        text-align: right;\n",
       "    }\n",
       "</style>\n",
       "<table border=\"1\" class=\"dataframe\">\n",
       "  <thead>\n",
       "    <tr style=\"text-align: right;\">\n",
       "      <th></th>\n",
       "      <th>x</th>\n",
       "      <th>y_actual</th>\n",
       "      <th>y_prediccion</th>\n",
       "      <th>SSR</th>\n",
       "      <th>SSD</th>\n",
       "      <th>SST</th>\n",
       "      <th>beta_n</th>\n",
       "      <th>beta_numerador</th>\n",
       "      <th>beta_denominador</th>\n",
       "      <th>y_model</th>\n",
       "    </tr>\n",
       "  </thead>\n",
       "  <tbody>\n",
       "    <tr>\n",
       "      <th>0</th>\n",
       "      <td>1.612931</td>\n",
       "      <td>11.438866</td>\n",
       "      <td>9.903276</td>\n",
       "      <td>0.562748</td>\n",
       "      <td>2.358037</td>\n",
       "      <td>5.224679</td>\n",
       "      <td>-12.262763</td>\n",
       "      <td>0.914075</td>\n",
       "      <td>0.159921</td>\n",
       "      <td>9.865921</td>\n",
       "    </tr>\n",
       "    <tr>\n",
       "      <th>1</th>\n",
       "      <td>4.465017</td>\n",
       "      <td>15.662112</td>\n",
       "      <td>15.037030</td>\n",
       "      <td>34.620511</td>\n",
       "      <td>0.390727</td>\n",
       "      <td>42.367093</td>\n",
       "      <td>-14.533603</td>\n",
       "      <td>21.167182</td>\n",
       "      <td>10.575415</td>\n",
       "      <td>14.949672</td>\n",
       "    </tr>\n",
       "    <tr>\n",
       "      <th>2</th>\n",
       "      <td>0.699683</td>\n",
       "      <td>8.095857</td>\n",
       "      <td>8.259430</td>\n",
       "      <td>0.798666</td>\n",
       "      <td>0.026756</td>\n",
       "      <td>1.117786</td>\n",
       "      <td>-9.120839</td>\n",
       "      <td>0.542739</td>\n",
       "      <td>0.263526</td>\n",
       "      <td>8.238085</td>\n",
       "    </tr>\n",
       "    <tr>\n",
       "      <th>3</th>\n",
       "      <td>-3.292524</td>\n",
       "      <td>1.840284</td>\n",
       "      <td>1.073456</td>\n",
       "      <td>65.280813</td>\n",
       "      <td>0.588025</td>\n",
       "      <td>53.477429</td>\n",
       "      <td>-5.524845</td>\n",
       "      <td>32.948340</td>\n",
       "      <td>20.300024</td>\n",
       "      <td>1.122104</td>\n",
       "    </tr>\n",
       "    <tr>\n",
       "      <th>4</th>\n",
       "      <td>-1.816636</td>\n",
       "      <td>3.362658</td>\n",
       "      <td>3.730056</td>\n",
       "      <td>29.409522</td>\n",
       "      <td>0.134981</td>\n",
       "      <td>33.529344</td>\n",
       "      <td>-5.895642</td>\n",
       "      <td>17.543139</td>\n",
       "      <td>9.178877</td>\n",
       "      <td>3.752828</td>\n",
       "    </tr>\n",
       "  </tbody>\n",
       "</table>\n",
       "</div>"
      ],
      "text/plain": [
       "          x   y_actual  y_prediccion        SSR       SSD        SST  \\\n",
       "0  1.612931  11.438866      9.903276   0.562748  2.358037   5.224679   \n",
       "1  4.465017  15.662112     15.037030  34.620511  0.390727  42.367093   \n",
       "2  0.699683   8.095857      8.259430   0.798666  0.026756   1.117786   \n",
       "3 -3.292524   1.840284      1.073456  65.280813  0.588025  53.477429   \n",
       "4 -1.816636   3.362658      3.730056  29.409522  0.134981  33.529344   \n",
       "\n",
       "      beta_n  beta_numerador  beta_denominador    y_model  \n",
       "0 -12.262763        0.914075          0.159921   9.865921  \n",
       "1 -14.533603       21.167182         10.575415  14.949672  \n",
       "2  -9.120839        0.542739          0.263526   8.238085  \n",
       "3  -5.524845       32.948340         20.300024   1.122104  \n",
       "4  -5.895642       17.543139          9.178877   3.752828  "
      ]
     },
     "execution_count": 36,
     "metadata": {},
     "output_type": "execute_result"
    }
   ],
   "source": [
    "data.head()"
   ]
  },
  {
   "cell_type": "code",
   "execution_count": 52,
   "metadata": {},
   "outputs": [],
   "source": [
    "SSR = sum((data[\"y_model\"] - y_mean)**2)\n",
    "SSD =sum((data[\"y_model\"] - data[\"y_actual\"])**2)\n",
    "SST = sum((data[\"y_actual\"] - y_mean)**2 )"
   ]
  },
  {
   "cell_type": "code",
   "execution_count": 53,
   "metadata": {},
   "outputs": [
    {
     "data": {
      "text/plain": [
       "(1893.0878119034664, 55.25356959099521, 1948.3413814944627)"
      ]
     },
     "execution_count": 53,
     "metadata": {},
     "output_type": "execute_result"
    }
   ],
   "source": [
    "SSR, SSD, SST"
   ]
  },
  {
   "cell_type": "code",
   "execution_count": 55,
   "metadata": {},
   "outputs": [
    {
     "data": {
      "text/plain": [
       "0.9716407144477862"
      ]
     },
     "execution_count": 55,
     "metadata": {},
     "output_type": "execute_result"
    }
   ],
   "source": [
    "R2 = SSR/SST\n",
    "R2"
   ]
  },
  {
   "cell_type": "code",
   "execution_count": 60,
   "metadata": {},
   "outputs": [
    {
     "data": {
      "text/plain": [
       "Text(0.5,1,'Valor actual vs prediccion')"
      ]
     },
     "execution_count": 60,
     "metadata": {},
     "output_type": "execute_result"
    },
    {
     "data": {
      "image/png": "[encoded data removed]",
      "text/plain": [
       "<Figure size 432x288 with 1 Axes>"
      ]
     },
     "metadata": {},
     "output_type": "display_data"
    }
   ],
   "source": [
    "y_mean = [np.mean(y_act) for i in range (1, len(x_list) + 1)]\n",
    "%matplotlib inline\n",
    "plt.plot(x, y_pred, \"b\")\n",
    "plt.plot(x, y_act, \"ro\")\n",
    "plt.plot(x, y_mean, \"g\")\n",
    "plt.plot(data[\"x\"], data[\"y_model\"], \"orange\")\n",
    "plt.title(\"Valor actual vs prediccion\")\n"
   ]
  },
  {
   "cell_type": "markdown",
   "metadata": {},
   "source": [
    " ## Error estandar de los residuos (RSE)"
   ]
  },
  {
   "cell_type": "code",
   "execution_count": 62,
   "metadata": {},
   "outputs": [
    {
     "data": {
      "text/plain": [
       "0.7508741136848386"
      ]
     },
     "execution_count": 62,
     "metadata": {},
     "output_type": "execute_result"
    }
   ],
   "source": [
    "RSE = np.sqrt(SSD/(len(data)-2))\n",
    "RSE"
   ]
  },
  {
   "cell_type": "code",
   "execution_count": 63,
   "metadata": {},
   "outputs": [
    {
     "data": {
      "text/plain": [
       "9.153110714928836"
      ]
     },
     "execution_count": 63,
     "metadata": {},
     "output_type": "execute_result"
    }
   ],
   "source": [
    "np.mean(data[\"y_actual\"])"
   ]
  },
  {
   "cell_type": "markdown",
   "metadata": {},
   "source": [
    "### Sacar el porcentaje de error del modelo"
   ]
  },
  {
   "cell_type": "code",
   "execution_count": 65,
   "metadata": {},
   "outputs": [
    {
     "data": {
      "text/plain": [
       "0.08203485537000592"
      ]
     },
     "execution_count": 65,
     "metadata": {},
     "output_type": "execute_result"
    }
   ],
   "source": [
    "# Porcentaje de error\n",
    "RSE / np.mean(data[\"y_actual\"])"
   ]
  },
  {
   "cell_type": "code",
   "execution_count": null,
   "metadata": {},
   "outputs": [],
   "source": []
  }
 ],
 "metadata": {
  "kernelspec": {
   "display_name": "Python 3",
   "language": "python",
   "name": "python3"
  },
  "language_info": {
   "codemirror_mode": {
    "name": "ipython",
    "version": 3
   },
   "file_extension": ".py",
   "mimetype": "text/x-python",
   "name": "python",
   "nbconvert_exporter": "python",
   "pygments_lexer": "ipython3",
   "version": "3.6.5"
  }
 },
 "nbformat": 4,
 "nbformat_minor": 2
}
